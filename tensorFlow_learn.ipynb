{
 "cells": [
  {
   "cell_type": "code",
   "execution_count": 1,
   "metadata": {},
   "outputs": [],
   "source": [
    "import tensorflow as tf\n",
    "sess = tf.Session()\n",
    "\n",
    "\n"
   ]
  },
  {
   "cell_type": "code",
   "execution_count": 5,
   "metadata": {},
   "outputs": [],
   "source": [
    "# coding=utf-8\n",
    "# create a zero filled tensor\n",
    "zero_tsr = tf.zeros([2, 4])\n",
    "# create a one filled tensor\n",
    "ones_tsr = tf.ones([2, 4])\n",
    "# create a constant filled tensor\n",
    "filled_tsr = tf.fill([1, 2], 42)\n",
    "# create a tensor out of a existing constant\n",
    "constant_tsr = tf.constant([1, 2, 3])\n",
    "\n",
    "# Ctrl + Q to see a quick definition\n",
    "zeros_similar = tf.zeros_like(constant_tsr)\n",
    "ones_similar = tf.ones_like(constant_tsr)\n",
    "\n",
    "\n",
    "\n",
    " "
   ]
  },
  {
   "cell_type": "code",
   "execution_count": 3,
   "metadata": {},
   "outputs": [
    {
     "data": {
      "text/plain": [
       "<tf.Tensor 'zeros_like:0' shape=(3,) dtype=int32>"
      ]
     },
     "execution_count": 3,
     "metadata": {},
     "output_type": "execute_result"
    }
   ],
   "source": [
    "zeros_similar"
   ]
  },
  {
   "cell_type": "code",
   "execution_count": 7,
   "metadata": {},
   "outputs": [],
   "source": [
    "linear_tsr = tf.linspace(.0, 1.0, 3)"
   ]
  },
  {
   "cell_type": "code",
   "execution_count": 22,
   "metadata": {},
   "outputs": [
    {
     "name": "stdout",
     "output_type": "stream",
     "text": [
      "[0.  0.5 1. ]\n"
     ]
    }
   ],
   "source": [
    "# init = tf.global_variables_initializer()\n",
    "\n",
    "print(sess.run(linear_tsr))\n",
    "    "
   ]
  },
  {
   "cell_type": "code",
   "execution_count": 6,
   "metadata": {},
   "outputs": [
    {
     "name": "stdout",
     "output_type": "stream",
     "text": [
      "[0 0 0]\n"
     ]
    }
   ],
   "source": [
    "print(sess.run(zeros_similar))"
   ]
  },
  {
   "cell_type": "code",
   "execution_count": 9,
   "metadata": {},
   "outputs": [
    {
     "data": {
      "text/plain": [
       "array([[0.09643805, 0.410156  , 0.73734057],\n",
       "       [0.48581696, 0.18597639, 0.11657941]], dtype=float32)"
      ]
     },
     "execution_count": 9,
     "metadata": {},
     "output_type": "execute_result"
    }
   ],
   "source": [
    "randunif_tsr = tf.random_uniform([2, 3])\n",
    "sess.run(randunif_tsr)"
   ]
  },
  {
   "cell_type": "code",
   "execution_count": 10,
   "metadata": {},
   "outputs": [
    {
     "data": {
      "text/plain": [
       "array([[-0.65845215, -0.42706797,  2.5979245 ],\n",
       "       [ 0.13467829, -0.524702  , -1.3805217 ]], dtype=float32)"
      ]
     },
     "execution_count": 10,
     "metadata": {},
     "output_type": "execute_result"
    }
   ],
   "source": [
    "randnorm_tsr = tf.random_normal([2, 3], 0, 1)\n",
    "sess.run(randnorm_tsr)"
   ]
  },
  {
   "cell_type": "code",
   "execution_count": 12,
   "metadata": {},
   "outputs": [
    {
     "data": {
      "text/plain": [
       "array([[-0.38593704,  0.7680914 , -0.0243112 ],\n",
       "       [-0.7367163 , -0.38752282,  0.5152143 ]], dtype=float32)"
      ]
     },
     "execution_count": 12,
     "metadata": {},
     "output_type": "execute_result"
    }
   ],
   "source": [
    "#picks values within two standard deviations of the mean\n",
    "runcnorm_tsr = tf.truncated_normal([2, 3], 0, 1)\n",
    "sess.run(runcnorm_tsr)"
   ]
  },
  {
   "cell_type": "code",
   "execution_count": 8,
   "metadata": {},
   "outputs": [],
   "source": [
    "# to download data from url\n",
    "# import requests\n",
    "# see examples in p21 in TensorFlow cookbook\n",
    "\n",
    "\n"
   ]
  },
  {
   "cell_type": "code",
   "execution_count": 10,
   "metadata": {},
   "outputs": [
    {
     "name": "stdout",
     "output_type": "stream",
     "text": [
      "3.0\n",
      "9.0\n",
      "15.0\n",
      "21.0\n",
      "27.0\n"
     ]
    }
   ],
   "source": [
    "import tensorflow as tf\n",
    "sess = tf.Session()\n",
    "import numpy as np\n",
    "x_vals = np.array([1., 3., 5., 7.,9.])\n",
    "x_data = tf.placeholder(tf.float32)\n",
    "m_const = tf.constant(3.)\n",
    "my_product = tf.multiply(x_data, m_const)\n",
    "for x_val in x_vals:\n",
    "    print(sess.run(my_product, feed_dict={x_data: x_val }))\n",
    "    "
   ]
  },
  {
   "cell_type": "code",
   "execution_count": 11,
   "metadata": {},
   "outputs": [
    {
     "name": "stdout",
     "output_type": "stream",
     "text": [
      "[[102.]\n",
      " [ 66.]\n",
      " [ 58.]]\n",
      "[[114.]\n",
      " [ 78.]\n",
      " [ 70.]]\n"
     ]
    }
   ],
   "source": [
    "my_array = np.array([[1., 3., 5., 7., 9.],\n",
    "[-2., 0., 2., 4., 6.],\n",
    "[-6., -3., 0., 3., 6.]])\n",
    "x_vals = np.array([my_array, my_array + 1])\n",
    "x_data = tf.placeholder(tf.float32, shape=(3, 5))\n",
    "\n",
    "m1 = tf.constant([[1.],[0.],[-1.],[2.],[4.]])\n",
    "m2 = tf.constant([[2.]])\n",
    "a1 = tf.constant([[10.]])\n",
    "\n",
    "prod1 = tf.matmul(x_data, m1)\n",
    "prod2 = tf.matmul(prod1, m2)\n",
    "add1 = tf.add(prod2, a1)\n",
    "\n",
    "for x_val in x_vals:\n",
    "    print(sess.run(add1, feed_dict={x_data: x_val}))\n"
   ]
  },
  {
   "cell_type": "markdown",
   "metadata": {},
   "source": [
    "we designate dimension that can vary or is unknow as value None"
   ]
  },
  {
   "cell_type": "code",
   "execution_count": 15,
   "metadata": {},
   "outputs": [
    {
     "name": "stdout",
     "output_type": "stream",
     "text": [
      "[[0.8938666 0.9398323]\n",
      " [0.7750449 0.836738 ]]\n"
     ]
    }
   ],
   "source": [
    "# working with multiple layers\n",
    "import tensorflow as tf\n",
    "import numpy as np\n",
    "see = tf.Session()\n",
    "\n",
    "x_shape = [1, 4, 4, 1]\n",
    "x_val = np.random.uniform(size = x_shape)\n",
    "\n",
    "x_data = tf.placeholder(tf.float32, shape=x_shape)\n",
    "my_filter = tf.constant(0.25, shape=[2, 2, 1, 1])\n",
    "my_strides = [1, 2, 2, 1]\n",
    "mov_avg_layer = tf.nn.conv2d(x_data, my_filter, my_strides, padding='SAME''', name='Moving_Avg_Window')\n",
    "\n",
    "def custom_layer(input_matrix):\n",
    "    input_matrix_squeezed = tf.squeeze(input_matrix)\n",
    "    A = tf.constant([[1., 2.], [-1., 3.]])\n",
    "    b = tf.constant(1., shape=[2, 2])\n",
    "    temp1 = tf.matmul(A, input_matrix_squeezed)\n",
    "    temp = tf.add(temp1, b)\n",
    "    return tf.sigmoid(temp)\n",
    "\n",
    "with tf.name_scope('Custom_Layer') as scope:\n",
    "    custom_layer1 = custom_layer(mov_avg_layer)\n",
    "    print(sess.run(custom_layer1, feed_dict={x_data: x_val}))"
   ]
  },
  {
   "cell_type": "code",
   "execution_count": 28,
   "metadata": {},
   "outputs": [
    {
     "name": "stdout",
     "output_type": "stream",
     "text": [
      "[1.1601256]\n"
     ]
    }
   ],
   "source": [
    "# Implementing Loss Function\n",
    "import matplotlib.pylab as plt\n",
    "import tensorflow as tf\n",
    "x_vals = tf.linspace(-1., 1., 500)\n",
    "target = tf.constant(0.)\n",
    "l2_y_vals = tf.square(target - x_vals)\n",
    "l2_y_out = sess.run(l2_y_vals)\n",
    "l1_y_vals = tf.abs(target - x_vals)\n",
    "l1_y_out = sess.run(l1_y_vals)\n",
    "delta1 = tf.constant(0.25)\n",
    "phuber1_y_vals = tf.multiply(tf.square(delta1), tf.sqrt(1. + tf.square((target - x_vals)/delta1)) - 1.)\n",
    "phuber1_y_out = sess.run(phuber1_y_vals)\n",
    "delta2 = tf.constant(5.)\n",
    "phuber2_y_vals = tf.multiply(tf.square(delta2), tf.sqrt(1. +\n",
    "tf.square((target - x_vals)/delta2)) - 1.)\n",
    "phuber2_y_out = sess.run(phuber2_y_vals)\n",
    "\n",
    "x_vals = tf.linspace(-3., 5., 500)\n",
    "target = tf.constant(1.)\n",
    "targets = tf.fill([500, ], 1.)\n",
    "\n",
    "hinge_y_vals = tf.maximum(0., 1. - tf.multiply(target, x_vals))\n",
    "hinge_y_out = sess.run(hinge_y_vals)\n",
    "\n",
    "xentropy_y_vals = - tf.multiply(target, tf.log(x_vals)) - tf.multiply((1. - target), tf.log(1. - x_vals))\n",
    "xentropy_y_out = sess.run(xentropy_y_vals)\n",
    "xentropy_sigmoid_y_vals = tf.nn.sigmoid_cross_entropy_with_logits(logits=x_vals, labels=targets)\n",
    "xentropy_sigmoid_y_out = sess.run(xentropy_sigmoid_y_vals)\n",
    "\n",
    "weight = tf.constant(0.5)\n",
    "xentropy_weighted_y_vals = tf.nn.weighted_cross_entropy_with_logits(x_vals, targets, weight)\n",
    "xentropy_weighted_y_out = sess.run(xentropy_weighted_y_vals)\n",
    "\n",
    "unscaled_logits = tf.constant([[1., -3., 10.]])\n",
    "target_dist = tf.constant([[0.1, 0.02, 0.88]])\n",
    "softmax_xentropy = tf.nn.softmax_cross_entropy_with_logits(logits=unscaled_logits, labels=target_dist)\n",
    "print(sess.run(softmax_xentropy))\n",
    "\n"
   ]
  },
  {
   "cell_type": "code",
   "execution_count": 25,
   "metadata": {},
   "outputs": [
    {
     "name": "stdout",
     "output_type": "stream",
     "text": [
      "[0.00012564]\n"
     ]
    }
   ],
   "source": [
    "unscaled_logits = tf.constant([[1., -3., 10.]])\n",
    "sparse_target_dists = tf.constant([2])\n",
    "sparse_xentropy = tf.nn.sparse_softmax_cross_entropy_with_logits(logits=unscaled_logits, labels=sparse_target_dists)\n",
    "print(sess.run(sparse_xentropy))"
   ]
  },
  {
   "cell_type": "code",
   "execution_count": 30,
   "metadata": {
    "collapsed": true
   },
   "outputs": [
    {
     "data": {
      "image/png": "[encoded data removed]",
      "text/plain": [
       "<Figure size 432x288 with 1 Axes>"
      ]
     },
     "metadata": {},
     "output_type": "display_data"
    }
   ],
   "source": [
    "x_array = sess.run(x_vals)\n",
    "plt.plot(x_array, l2_y_out, 'b-', label='L2 Loss')\n",
    "plt.plot(x_array, l1_y_out, 'r--', label='L1 Loss')\n",
    "plt.plot(x_array, phuber1_y_out, 'k-.', label='P-Huber Loss (0.25)')\n",
    "plt.plot(x_array, phuber2_y_out, 'g:', label='P-Huber Loss (5.0)')\n",
    "plt.ylim(-0.2, 0.4)\n",
    "plt.legend(loc='lower right', prop={'size': 11})\n",
    "plt.show()"
   ]
  },
  {
   "cell_type": "code",
   "execution_count": 32,
   "metadata": {},
   "outputs": [
    {
     "name": "stdout",
     "output_type": "stream",
     "text": [
      "step #25 A = [6.6228237]\n",
      "Loss = [11.211924]\n",
      "step #50 A = [8.75481]\n",
      "Loss = [8.602157]\n",
      "step #75 A = [9.588464]\n",
      "Loss = [0.02139653]\n",
      "step #100 A = [9.92997]\n",
      "Loss = [0.12632006]\n",
      "Tensor(\"Add:0\", shape=(1,), dtype=float32)\n",
      "Tensor(\"ExpandDims:0\", shape=(1, 1), dtype=float32)\n",
      "Tensor(\"Placeholder_1:0\", shape=(1,), dtype=float32)\n",
      "Tensor(\"ExpandDims_1:0\", shape=(1, 1), dtype=float32)\n",
      "Step #200 A = [6.091903]\n",
      "Loss = [[2.2861505]]\n",
      "Step #400 A = [1.3407096]\n",
      "Loss = [[0.7100198]]\n",
      "Step #600 A = [-0.37046045]\n",
      "Loss = [[0.47203818]]\n",
      "Step #800 A = [-0.80356467]\n",
      "Loss = [[0.88262147]]\n",
      "Step #1000 A = [-0.9361812]\n",
      "Loss = [[0.10690213]]\n",
      "Step #1200 A = [-0.8106045]\n",
      "Loss = [[0.69463944]]\n",
      "Step #1400 A = [-0.948924]\n",
      "Loss = [[0.16462137]]\n"
     ]
    }
   ],
   "source": [
    "# Implementing back propagation\n",
    "import numpy as np\n",
    "import tensorflow as tf\n",
    "sess = tf.Session()\n",
    "x_vals = np.random.normal(1, 0.1, 100)\n",
    "y_vals = np.repeat(10., 100)\n",
    "x_data = tf.placeholder(shape=[1], dtype=tf.float32)\n",
    "y_target = tf.placeholder(shape=[1], dtype=tf.float32)\n",
    "A = tf.Variable(tf.random_normal(shape=[1]))\n",
    "my_output = tf.multiply(x_data, A)\n",
    "loss = tf.square(my_output - y_target)\n",
    "init = tf.initialize_all_variables()\n",
    "sess.run(init)\n",
    "my_opt = tf.train.GradientDescentOptimizer(learning_rate=0.02)\n",
    "train_step = my_opt.minimize(loss)\n",
    "\n",
    "for i in range(100):\n",
    "    rand_index = np.random.choice(100)\n",
    "    rand_x = [x_vals[rand_index]]\n",
    "    rand_y = [y_vals[rand_index]]\n",
    "    sess.run(train_step, feed_dict={x_data:rand_x, y_target:rand_y})\n",
    "    if (i+1) % 25 == 0:\n",
    "        print('step #' + str(i+1) + ' A = ' +str(sess.run(A)))\n",
    "        print('Loss = ' + str(sess.run(loss, feed_dict={x_data:rand_x, y_target: rand_y })))\n",
    "\n",
    "from tensorflow.python.framework import ops \n",
    "# import tensorflow as tf\n",
    "# import numpy as np\n",
    "ops.reset_default_graph()\n",
    "sess = tf.Session()\n",
    "x_vals = np.concatenate((np.random.normal(-1, 1, 50), np.random.normal(3, 1, 50)))\n",
    "y_vals = np.concatenate((np.repeat(0., 50), np.repeat(1., 50)))\n",
    "x_data = tf.placeholder(shape=[1], dtype=tf.float32)\n",
    "y_target = tf.placeholder(shape=[1], dtype=tf.float32)\n",
    "A = tf.Variable(tf.random_normal(mean=10, shape=[1]))\n",
    "my_output = tf.add(x_data, A)\n",
    "\n",
    "my_output_expanded = tf.expand_dims(my_output, 0)\n",
    "print(my_output)\n",
    "print(my_output_expanded)\n",
    "\n",
    "y_target_expanded = tf.expand_dims(y_target, 0)\n",
    "print(y_target)\n",
    "print((y_target_expanded))\n",
    "\n",
    "init = tf.global_variables_initializer()\n",
    "sess.run(init)\n",
    "xentropy = tf.nn.sigmoid_cross_entropy_with_logits(logits=my_output_expanded, labels=y_target_expanded)\n",
    "my_opt = tf.train.GradientDescentOptimizer(0.05)\n",
    "train_step = my_opt.minimize(xentropy)\n",
    "\n",
    "for i in range(1400):\n",
    "    rand_index = np.random.choice(100)\n",
    "    rand_x = [x_vals[rand_index]]\n",
    "    rand_y = [y_vals[rand_index]]\n",
    "    sess.run(train_step, feed_dict={x_data:rand_x, y_target:rand_y})\n",
    "    if (i+1) % 200 == 0:\n",
    "        print('Step #' + str(i+1) + ' A = ' + str(sess.run(A)))\n",
    "        print('Loss = ' + str(sess.run(xentropy, feed_dict={x_data: rand_x, y_target: rand_y})))"
   ]
  },
  {
   "cell_type": "markdown",
   "metadata": {},
   "source": [
    "working with batches and stochastic trainings"
   ]
  },
  {
   "cell_type": "code",
   "execution_count": 51,
   "metadata": {},
   "outputs": [
    {
     "name": "stdout",
     "output_type": "stream",
     "text": [
      "Exception reporting mode: Plain\nstep #5 A = [[0.6208272]]\nLoss = 88.21398\nstep #10 A = [[2.3554823]]\nLoss = 56.71319\nstep #15 A = [[3.7491126]]\nLoss = 37.745804\nstep #20 A = [[4.895239]]\nLoss = 27.924006\nstep #25 A = [[5.834037]]\nLoss = 18.76893\nstep #30 A = [[6.6016703]]\nLoss = 11.672731\nstep #35 A = [[7.225195]]\nLoss = 8.30599\nstep #40 A = [[7.7299514]]\nLoss = 5.6040754\nstep #45 A = [[8.151737]]\nLoss = 4.6545205\nstep #50 A = [[8.496981]]\nLoss = 3.3888047\nstep #55 A = [[8.776151]]\nLoss = 2.4015567\nstep #60 A = [[9.0073595]]\nLoss = 2.6711774\nstep #65 A = [[9.195778]]\nLoss = 1.0009825\nstep #70 A = [[9.33707]]\nLoss = 1.0243279\nstep #75 A = [[9.478961]]\nLoss = 1.0072753\nstep #80 A = [[9.611313]]\nLoss = 1.0716257\nstep #85 A = [[9.675171]]\nLoss = 1.353658\nstep #90 A = [[9.74137]]\nLoss = 0.9081281\nstep #95 A = [[9.800332]]\nLoss = 0.6701369\nstep #100 A = [[9.875184]]\nLoss = 1.1042894\n"
     ]
    }
   ],
   "source": [
    "%xmode plain\n",
    "import numpy as np\n",
    "import tensorflow as tf\n",
    "import matplotlib.pyplot as plt\n",
    "sess = tf.Session()\n",
    "\n",
    "batch_size = 20\n",
    "x_vals = np.random.normal(1, 0.1, 100)\n",
    "y_vals = np.repeat(10., 100)\n",
    "x_data = tf.placeholder(shape=[None, 1], dtype=tf.float32)\n",
    "y_target = tf.placeholder(shape=[None, 1], dtype=tf.float32)\n",
    "A = tf.Variable(tf.random_normal(shape=[1, 1]))\n",
    "my_output = tf.matmul(x_data, A)\n",
    "loss = tf.reduce_mean(tf.square(my_output - y_target))\n",
    "init = tf.global_variables_initializer()\n",
    "sess.run(init)\n",
    "my_opt = tf.train.GradientDescentOptimizer(learning_rate=0.02)\n",
    "train_step = my_opt.minimize(loss)\n",
    "loss_batch = []\n",
    "# from ipdb import set_trace\n",
    "# set_trace()\n",
    "for i in range(100):\n",
    "    rand_index = np.random.choice(100, size=batch_size)\n",
    "    rand_x = np.transpose([x_vals[rand_index]])\n",
    "    rand_y = np.transpose([y_vals[rand_index]])\n",
    "    # print(rand_x)\n",
    "    # print(rand_y)\n",
    "\n",
    "    # set_trace()\n",
    "    sess.run(train_step, feed_dict={x_data: rand_x, y_target: rand_y})\n",
    "    if (i+1) % 5 == 0:\n",
    "        print('step #' + str(i+1) + ' A = ' + str(sess.run(A)))\n",
    "        temp_loss = sess.run(loss, feed_dict={x_data: rand_x, y_target: rand_y })\n",
    "        print('Loss = ' + str(temp_loss))\n",
    "        loss_batch.append(temp_loss)\n",
    "\n"
   ]
  },
  {
   "cell_type": "code",
   "execution_count": 52,
   "metadata": {},
   "outputs": [
    {
     "name": "stdout",
     "output_type": "stream",
     "text": [
      "Step #5 A = [[9.800425]]\nLoss = 2.561915\nStep #10 A = [[9.832416]]\nLoss = 2.1919234\nStep #15 A = [[9.948028]]\nLoss = 1.9053401\nStep #20 A = [[9.95393]]\nLoss = 0.36839965\nStep #25 A = [[10.063907]]\nLoss = 2.3818357\nStep #30 A = [[10.129699]]\nLoss = 0.004287786\nStep #35 A = [[10.050687]]\nLoss = 1.050853\nStep #40 A = [[10.0514145]]\nLoss = 0.0053817546\nStep #45 A = [[10.040129]]\nLoss = 0.118513785\nStep #50 A = [[10.084266]]\nLoss = 0.45831615\nStep #55 A = [[10.072497]]\nLoss = 0.028666392\nStep #60 A = [[10.025862]]\nLoss = 0.37523127\nStep #65 A = [[10.118359]]\nLoss = 0.7388106\nStep #70 A = [[10.05768]]\nLoss = 1.2449094\nStep #75 A = [[10.008967]]\nLoss = 0.037422154\nStep #80 A = [[9.998336]]\nLoss = 0.49976912\nStep #85 A = [[10.082371]]\nLoss = 0.32368422\nStep #90 A = [[10.005082]]\nLoss = 0.14829348\nStep #95 A = [[10.069787]]\nLoss = 0.8533738\nStep #100 A = [[10.12317]]\nLoss = 2.2306042\n"
     ]
    }
   ],
   "source": [
    "loss_stochastic = []\n",
    "\n",
    "for i in range(100):\n",
    "    rand_index = np.random.choice(100)\n",
    "    rand_x = [x_vals[rand_index]]\n",
    "    rand_x = [rand_x] # add this to alter shape of the rand_x is (1, 1) instead of (1, ) because the placeholder x_data requires a tensor of shape (None, 1).without this alteration, the program will fail\n",
    "    rand_y = [y_vals[rand_index]]\n",
    "    rand_y = [rand_y]\n",
    "    sess.run(train_step, feed_dict={x_data: rand_x, y_target: rand_y})\n",
    "    if (i+1) % 5 == 0:\n",
    "        print('Step #' + str(i+1) + ' A = ' + str(sess.run(A)))\n",
    "        temp_loss = sess.run(loss, feed_dict={x_data: rand_x, y_target: rand_y})\n",
    "        print('Loss = ' + str(temp_loss))\n",
    "        loss_stochastic.append(temp_loss)"
   ]
  },
  {
   "cell_type": "code",
   "execution_count": 57,
   "metadata": {},
   "outputs": [
    {
     "data": {
      "image/png": "[encoded data removed]",
      "text/plain": [
       "<Figure size 432x288 with 1 Axes>"
      ]
     },
     "metadata": {},
     "output_type": "display_data"
    }
   ],
   "source": [
    "import matplotlib.pyplot as plt\n",
    "plt.plot(range(0, 100, 5), loss_stochastic, 'b-', label='stochastic loss')\n",
    "plt.plot(range(0, 100, 5), loss_batch, 'r--', label='Batch Loss')\n",
    "plt.legend(loc='upper right', prop={'size': 11})\n",
    "plt.show()"
   ]
  },
  {
   "cell_type": "code",
   "execution_count": 67,
   "metadata": {},
   "outputs": [
    {
     "name": "stdout",
     "output_type": "stream",
     "text": [
      "Step #200 A = [[8.701926]], b = [[-3.6077356]]\nStep #400 A = [[10.224597]], b = [[-4.7509665]]\n"
     ]
    },
    {
     "name": "stdout",
     "output_type": "stream",
     "text": [
      "Step #600 A = [[11.159545]], b = [[-5.4874234]]\nStep #800 A = [[11.887769]], b = [[-5.9090633]]\n"
     ]
    },
    {
     "name": "stdout",
     "output_type": "stream",
     "text": [
      "Step #1000 A = [[12.402253]], b = [[-6.455402]]\n"
     ]
    }
   ],
   "source": [
    "import matplotlib.pyplot as plt\n",
    "import numpy as np\n",
    "from sklearn import datasets\n",
    "import tensorflow as tf\n",
    "sess = tf.Session()\n",
    "iris = datasets.load_iris()\n",
    "binary_target = np.array([1. if x==0 else 0. for x in iris.target])\n",
    "iris_2d = np.array([[x[2], x[3]] for x in iris.data])\n",
    "\n",
    "batch_size = 20\n",
    "x1_data = tf.placeholder(shape=[None, 1], dtype=tf.float32)\n",
    "x2_data = tf.placeholder(shape=[None, 1], dtype=tf.float32)\n",
    "y_target = tf.placeholder(shape=[None, 1], dtype=tf.float32)\n",
    "A = tf.Variable(tf.random_normal(shape=[1, 1]))\n",
    "b = tf.Variable(tf.random_normal(shape=[1, 1]))\n",
    "my_mult = tf.matmul(x2_data, A)\n",
    "my_add = tf.add(my_mult, b)\n",
    "my_output = tf.subtract(x1_data, my_add)\n",
    "xentropy = tf.nn.sigmoid_cross_entropy_with_logits(logits=my_output, labels=y_target)\n",
    "\n",
    "my_opt = tf.train.GradientDescentOptimizer(0.05)\n",
    "train_step = my_opt.minimize(xentropy)\n",
    "init = tf.initialize_all_variables()\n",
    "sess.run(init)\n",
    "\n",
    "for i in range(1000):\n",
    "    rand_index = np.random.choice(len(iris_2d), size=batch_size)\n",
    "    rand_x = iris_2d[rand_index]\n",
    "    rand_x1 = np.array([[x[0]] for x in rand_x])\n",
    "    rand_x2 = np.array([[x[1]] for x in rand_x])\n",
    "    rand_y = np.array([[y] for y in binary_target[rand_index]])\n",
    "    sess.run(train_step, feed_dict={x1_data: rand_x1, x2_data: rand_x2, y_target: rand_y})\n",
    "    if (i+1) % 200 == 0:\n",
    "        print('Step #' + str(i+1) + ' A = ' + str(sess.run(A)) + ', b = ' + str(sess.run(b)))"
   ]
  },
  {
   "cell_type": "code",
   "execution_count": 1,
   "metadata": {},
   "outputs": [
    {
     "ename": "NameError",
     "evalue": "name 'sess' is not defined",
     "traceback": [
      "\u001b[1;31m---------------------------------------------------------------------------\u001b[0m",
      "\u001b[1;31mNameError\u001b[0m                                 Traceback (most recent call last)",
      "\u001b[1;32m<ipython-input-1-e30d39ab7192>\u001b[0m in \u001b[0;36m<module>\u001b[1;34m\u001b[0m\n\u001b[1;32m----> 1\u001b[1;33m \u001b[1;33m[\u001b[0m\u001b[1;33m[\u001b[0m\u001b[0mslope\u001b[0m\u001b[1;33m]\u001b[0m\u001b[1;33m]\u001b[0m \u001b[1;33m=\u001b[0m \u001b[0msess\u001b[0m\u001b[1;33m.\u001b[0m\u001b[0mrun\u001b[0m\u001b[1;33m(\u001b[0m\u001b[0mA\u001b[0m\u001b[1;33m)\u001b[0m\u001b[1;33m\u001b[0m\u001b[0m\n\u001b[0m\u001b[0;32m      2\u001b[0m \u001b[1;33m[\u001b[0m\u001b[1;33m[\u001b[0m\u001b[0mintercept\u001b[0m\u001b[1;33m]\u001b[0m\u001b[1;33m]\u001b[0m \u001b[1;33m=\u001b[0m \u001b[0msess\u001b[0m\u001b[1;33m.\u001b[0m\u001b[0mrun\u001b[0m\u001b[1;33m(\u001b[0m\u001b[0mb\u001b[0m\u001b[1;33m)\u001b[0m\u001b[1;33m\u001b[0m\u001b[0m\n\u001b[0;32m      3\u001b[0m \u001b[0mx\u001b[0m \u001b[1;33m=\u001b[0m \u001b[0mnp\u001b[0m\u001b[1;33m.\u001b[0m\u001b[0mlinspace\u001b[0m\u001b[1;33m(\u001b[0m\u001b[1;36m0\u001b[0m\u001b[1;33m,\u001b[0m \u001b[1;36m3\u001b[0m\u001b[1;33m,\u001b[0m \u001b[0mnum\u001b[0m\u001b[1;33m=\u001b[0m\u001b[1;36m50\u001b[0m\u001b[1;33m)\u001b[0m\u001b[1;33m\u001b[0m\u001b[0m\n\u001b[0;32m      4\u001b[0m \u001b[0mablineValues\u001b[0m \u001b[1;33m=\u001b[0m \u001b[1;33m[\u001b[0m\u001b[1;33m]\u001b[0m\u001b[1;33m\u001b[0m\u001b[0m\n\u001b[0;32m      5\u001b[0m \u001b[1;32mfor\u001b[0m \u001b[0mi\u001b[0m \u001b[1;32min\u001b[0m \u001b[0mx\u001b[0m\u001b[1;33m:\u001b[0m\u001b[1;33m\u001b[0m\u001b[0m\n",
      "\u001b[1;31mNameError\u001b[0m: name 'sess' is not defined"
     ],
     "output_type": "error"
    }
   ],
   "source": [
    "[[slope]] = sess.run(A)\n",
    "[[intercept]] = sess.run(b)\n",
    "x = np.linspace(0, 3, num=50)\n",
    "ablineValues = []\n",
    "for i in x:\n",
    "    ablineValues.append(slope*i+intercept)\n",
    "    \n",
    "setosa_x = [a[1] for i, a in enumerate(iris_2d) if binary_target[i]==1]\n",
    "setosa_y = [a[0] for i, a in enumerate(iris_2d) if \n",
    "            binary_target[i]==1]\n",
    "non_setosa_x = [a[1] for i, a in enumerate(iris_2d) if \n",
    "                binary_target[i]==0]\n",
    "non_setosa_y = [a[0] for i, a in enumerate(iris_2d) if binary_target[i]==0]\n",
    "\n",
    "plt.plot(setosa_x, setosa_y, 'rx', ms=10, mew=2, label='setosa')\n",
    "plt.plot(non_setosa_x, non_setosa_y, 'ro', label='Non-setosa')\n",
    "plt.plot(x, ablineValues, 'b-')\n",
    "plt.xlim([0.0, 2.7])\n",
    "plt.ylim([0.0, 7.1])\n",
    "plt.suptitle('Linear Separator For I.setosa', fontsize=20)\n",
    "plt.xlabel('Petal Length')\n",
    "plt.ylabel('Petal Width')\n",
    "plt.legend(loc='lower right')\n",
    "plt.show()"
   ]
  },
  {
   "cell_type": "code",
   "execution_count": 2,
   "metadata": {},
   "outputs": [
    {
     "name": "stdout",
     "output_type": "stream",
     "text": [
      "WARNING:tensorflow:From C:\\ProgramData\\Anaconda3\\envs\\tensorflow\\lib\\site-packages\\tensorflow\\python\\util\\tf_should_use.py:118: initialize_all_variables (from tensorflow.python.ops.variables) is deprecated and will be removed after 2017-03-02.\nInstructions for updating:\nUse `tf.global_variables_initializer` instead.\n"
     ]
    },
    {
     "name": "stdout",
     "output_type": "stream",
     "text": [
      "Step #25 A = [[6.0447464]]\nLoss = 16.689177\nStep #50 A = [[8.54456]]\nLoss = 1.8826284\nStep #75 A = [[9.446085]]\nLoss = 1.5643001\nStep #100 A = [[9.759833]]\nLoss = 1.171856\n"
     ]
    }
   ],
   "source": [
    "# Evaluateing models\n",
    "import matplotlib.pyplot as plt\n",
    "import numpy as np\n",
    "import tensorflow as tf\n",
    "sess = tf.Session()\n",
    "x_vals = np.random.normal(1, 0.1, 100)\n",
    "y_vals = np.repeat(10., 100)\n",
    "x_data = tf.placeholder(shape=[None, 1], dtype=tf.float32)\n",
    "y_target = tf.placeholder(shape=[None, 1], dtype=tf.float32)\n",
    "batch_size = 25\n",
    "train_indices = np.random.choice(len(x_vals), round(len(x_vals)*0.8), replace=False)\n",
    "test_indices = np.array(list(set(range(len(x_vals))) - set(train_indices)))\n",
    "x_vals_train = x_vals[train_indices]\n",
    "x_vals_test = x_vals[test_indices]\n",
    "y_vals_train = y_vals[train_indices]\n",
    "y_vals_test = y_vals[test_indices]\n",
    "A = tf.Variable(tf.random_normal(shape=[1, 1]))\n",
    "my_output = tf.matmul(x_data, A)\n",
    "loss = tf.reduce_mean(tf.square(my_output - y_target))\n",
    "init = tf.global_variables_initializer()\n",
    "sess.run(init)\n",
    "my_opt = tf.train.GradientDescentOptimizer(0.02)\n",
    "train_step = my_opt.minimize(loss)\n",
    "for i in range(100):\n",
    "    rand_index = np.random.choice(len(x_vals_train), size=batch_size)\n",
    "    rand_x = np.transpose([x_vals_train[rand_index]])\n",
    "    rand_y = np.transpose([y_vals_train[rand_index]])\n",
    "    sess.run(train_step, feed_dict={x_data: rand_x, y_target: rand_y})\n",
    "    if (i+1)%25==0:\n",
    "        print('Step #' + str(i+1) + ' A = ' + str(sess.run(A)))\n",
    "        print('Loss = ' + str(sess.run(loss, feed_dict={x_data: rand_x, y_target: rand_y})))\n",
    "        \n"
   ]
  },
  {
   "cell_type": "code",
   "execution_count": 3,
   "metadata": {},
   "outputs": [
    {
     "name": "stdout",
     "output_type": "stream",
     "text": [
      "'MSE' on test:1.05\n'MSE' on train:1.03\n"
     ]
    }
   ],
   "source": [
    "mse_test = sess.run(loss, feed_dict={x_data: np.transpose([x_vals_test]),\n",
    "                                     y_target: np.transpose([y_vals_test])})\n",
    "mse_train = sess.run(loss, feed_dict={x_data: np.transpose([x_vals_train]), \n",
    "                                      y_target: np.transpose([y_vals_train])})\n",
    "print(\"'MSE' on test:\" + str(np.round(mse_test, 2)))\n",
    "print(\"'MSE' on train:\" + str(np.round(mse_train, 2)))"
   ]
  },
  {
   "cell_type": "code",
   "execution_count": 3,
   "metadata": {},
   "outputs": [],
   "source": [
    "# using mutiple neural layers\n",
    "# https://github.com/nfmcclure/tensorflow_cookbook/blob/master/06_Neural_Networks#/06_Using_Multiple_Layers/06_using_a_multiple_layer_network.ipynb\n",
    "\n",
    "# Low Birth Weight (0 = Birth Weight >= 2500g,            LOW\n",
    "#                          1 = Birth Weight < 2500g)\n",
    "# Age of the Mother in Years                              AGE\n",
    "# Weight in Pounds at the Last Menstrual Period           LWT\n",
    "# Race (1 = White, 2 = Black, 3 = Other)                  RACE\n",
    "# Smoking Status During Pregnancy (1 = Yes, 0 = No)       SMOKE\n",
    "# History of Premature Labor (0 = None  1 = One, etc.)    PTL\n",
    "# History of Hypertension (1 = Yes, 0 = No)               HT\n",
    "# Presence of Uterine Irritability (1 = Yes, 0 = No)      UI\n",
    "# Birth Weight in Grams                                   BWT\n"
   ]
  },
  {
   "cell_type": "code",
   "execution_count": 11,
   "metadata": {},
   "outputs": [],
   "source": [
    "import tensorflow as tf\n",
    "import matplotlib.pyplot as plt\n",
    "import csv\n",
    "import os\n",
    "import os.path\n",
    "import random\n",
    "import numpy as np\n",
    "import requests\n",
    "from tensorflow.python.framework import ops\n"
   ]
  },
  {
   "cell_type": "code",
   "execution_count": 12,
   "metadata": {},
   "outputs": [
    {
     "ename": "IndexError",
     "evalue": "list index out of range",
     "traceback": [
      "\u001b[0;31m---------------------------------------------------------------------------\u001b[0m",
      "\u001b[0;31mIndexError\u001b[0m                                Traceback (most recent call last)",
      "\u001b[0;32m<ipython-input-12-010148de4bef>\u001b[0m in \u001b[0;36m<module>\u001b[0;34m()\u001b[0m\n\u001b[1;32m     22\u001b[0m \u001b[0mbirth_data\u001b[0m \u001b[0;34m=\u001b[0m \u001b[0;34m[\u001b[0m\u001b[0;34m[\u001b[0m\u001b[0mfloat\u001b[0m\u001b[0;34m(\u001b[0m\u001b[0mx\u001b[0m\u001b[0;34m)\u001b[0m \u001b[0;32mfor\u001b[0m \u001b[0mx\u001b[0m \u001b[0;32min\u001b[0m \u001b[0mrow\u001b[0m\u001b[0;34m]\u001b[0m \u001b[0;32mfor\u001b[0m \u001b[0mrow\u001b[0m \u001b[0;32min\u001b[0m \u001b[0mbirth_data\u001b[0m\u001b[0;34m]\u001b[0m\u001b[0;34m\u001b[0m\u001b[0m\n\u001b[1;32m     23\u001b[0m \u001b[0;34m\u001b[0m\u001b[0m\n\u001b[0;32m---> 24\u001b[0;31m \u001b[0my_vals\u001b[0m \u001b[0;34m=\u001b[0m \u001b[0mnp\u001b[0m\u001b[0;34m.\u001b[0m\u001b[0marray\u001b[0m\u001b[0;34m(\u001b[0m\u001b[0;34m[\u001b[0m\u001b[0mx\u001b[0m\u001b[0;34m[\u001b[0m\u001b[0;36m8\u001b[0m\u001b[0;34m]\u001b[0m \u001b[0;32mfor\u001b[0m \u001b[0mx\u001b[0m \u001b[0;32min\u001b[0m \u001b[0mbirth_data\u001b[0m\u001b[0;34m]\u001b[0m\u001b[0;34m)\u001b[0m\u001b[0;34m\u001b[0m\u001b[0m\n\u001b[0m\u001b[1;32m     25\u001b[0m \u001b[0mcols_of_interest\u001b[0m \u001b[0;34m=\u001b[0m \u001b[0;34m[\u001b[0m\u001b[0;34m'AGE'\u001b[0m\u001b[0;34m,\u001b[0m \u001b[0;34m'LWT'\u001b[0m\u001b[0;34m,\u001b[0m \u001b[0;34m'RACE'\u001b[0m\u001b[0;34m,\u001b[0m \u001b[0;34m'SMOKE'\u001b[0m\u001b[0;34m,\u001b[0m \u001b[0;34m'PTL'\u001b[0m\u001b[0;34m,\u001b[0m \u001b[0;34m'HT'\u001b[0m\u001b[0;34m,\u001b[0m \u001b[0;34m'UI'\u001b[0m\u001b[0;34m]\u001b[0m\u001b[0;34m\u001b[0m\u001b[0m\n\u001b[1;32m     26\u001b[0m \u001b[0mx_vals\u001b[0m \u001b[0;34m=\u001b[0m \u001b[0;34m[\u001b[0m\u001b[0;34m[\u001b[0m\u001b[0mx\u001b[0m\u001b[0;34m[\u001b[0m\u001b[0mix\u001b[0m\u001b[0;34m]\u001b[0m \u001b[0;32mfor\u001b[0m \u001b[0mix\u001b[0m\u001b[0;34m,\u001b[0m \u001b[0mfeature\u001b[0m \u001b[0;32min\u001b[0m \u001b[0menumerate\u001b[0m\u001b[0;34m(\u001b[0m\u001b[0mbirth_header\u001b[0m\u001b[0;34m)\u001b[0m \u001b[0;32mif\u001b[0m \u001b[0mfeature\u001b[0m \u001b[0;32min\u001b[0m \u001b[0mcols_of_interest\u001b[0m\u001b[0;34m]\u001b[0m \u001b[0;32mfor\u001b[0m \u001b[0mx\u001b[0m \u001b[0;32min\u001b[0m \u001b[0mbirth_data\u001b[0m\u001b[0;34m]\u001b[0m\u001b[0;34m\u001b[0m\u001b[0m\n",
      "\u001b[0;32m<ipython-input-12-010148de4bef>\u001b[0m in \u001b[0;36m<listcomp>\u001b[0;34m(.0)\u001b[0m\n\u001b[1;32m     22\u001b[0m \u001b[0mbirth_data\u001b[0m \u001b[0;34m=\u001b[0m \u001b[0;34m[\u001b[0m\u001b[0;34m[\u001b[0m\u001b[0mfloat\u001b[0m\u001b[0;34m(\u001b[0m\u001b[0mx\u001b[0m\u001b[0;34m)\u001b[0m \u001b[0;32mfor\u001b[0m \u001b[0mx\u001b[0m \u001b[0;32min\u001b[0m \u001b[0mrow\u001b[0m\u001b[0;34m]\u001b[0m \u001b[0;32mfor\u001b[0m \u001b[0mrow\u001b[0m \u001b[0;32min\u001b[0m \u001b[0mbirth_data\u001b[0m\u001b[0;34m]\u001b[0m\u001b[0;34m\u001b[0m\u001b[0m\n\u001b[1;32m     23\u001b[0m \u001b[0;34m\u001b[0m\u001b[0m\n\u001b[0;32m---> 24\u001b[0;31m \u001b[0my_vals\u001b[0m \u001b[0;34m=\u001b[0m \u001b[0mnp\u001b[0m\u001b[0;34m.\u001b[0m\u001b[0marray\u001b[0m\u001b[0;34m(\u001b[0m\u001b[0;34m[\u001b[0m\u001b[0mx\u001b[0m\u001b[0;34m[\u001b[0m\u001b[0;36m8\u001b[0m\u001b[0;34m]\u001b[0m \u001b[0;32mfor\u001b[0m \u001b[0mx\u001b[0m \u001b[0;32min\u001b[0m \u001b[0mbirth_data\u001b[0m\u001b[0;34m]\u001b[0m\u001b[0;34m)\u001b[0m\u001b[0;34m\u001b[0m\u001b[0m\n\u001b[0m\u001b[1;32m     25\u001b[0m \u001b[0mcols_of_interest\u001b[0m \u001b[0;34m=\u001b[0m \u001b[0;34m[\u001b[0m\u001b[0;34m'AGE'\u001b[0m\u001b[0;34m,\u001b[0m \u001b[0;34m'LWT'\u001b[0m\u001b[0;34m,\u001b[0m \u001b[0;34m'RACE'\u001b[0m\u001b[0;34m,\u001b[0m \u001b[0;34m'SMOKE'\u001b[0m\u001b[0;34m,\u001b[0m \u001b[0;34m'PTL'\u001b[0m\u001b[0;34m,\u001b[0m \u001b[0;34m'HT'\u001b[0m\u001b[0;34m,\u001b[0m \u001b[0;34m'UI'\u001b[0m\u001b[0;34m]\u001b[0m\u001b[0;34m\u001b[0m\u001b[0m\n\u001b[1;32m     26\u001b[0m \u001b[0mx_vals\u001b[0m \u001b[0;34m=\u001b[0m \u001b[0;34m[\u001b[0m\u001b[0;34m[\u001b[0m\u001b[0mx\u001b[0m\u001b[0;34m[\u001b[0m\u001b[0mix\u001b[0m\u001b[0;34m]\u001b[0m \u001b[0;32mfor\u001b[0m \u001b[0mix\u001b[0m\u001b[0;34m,\u001b[0m \u001b[0mfeature\u001b[0m \u001b[0;32min\u001b[0m \u001b[0menumerate\u001b[0m\u001b[0;34m(\u001b[0m\u001b[0mbirth_header\u001b[0m\u001b[0;34m)\u001b[0m \u001b[0;32mif\u001b[0m \u001b[0mfeature\u001b[0m \u001b[0;32min\u001b[0m \u001b[0mcols_of_interest\u001b[0m\u001b[0;34m]\u001b[0m \u001b[0;32mfor\u001b[0m \u001b[0mx\u001b[0m \u001b[0;32min\u001b[0m \u001b[0mbirth_data\u001b[0m\u001b[0;34m]\u001b[0m\u001b[0;34m\u001b[0m\u001b[0m\n",
      "\u001b[0;31mIndexError\u001b[0m: list index out of range"
     ],
     "output_type": "error"
    }
   ],
   "source": [
    "# Obtain the data\n",
    "birth_weight_file  = 'birth_weight.csv'\n",
    "if not os.path.exists(birth_weight_file):\n",
    "    birthdata_url = 'https://github.com/nfmcclure/tensorflow_cookbook/raw/master/01_Introduction/07_Working_with_Data_Sources/birthweight_data/birthweight.dat'\n",
    "    \n",
    "    birth_file = requests.get(birthdata_url)\n",
    "    birth_data = birth_file.text.split('\\r\\n')\n",
    "    birth_header = birth_data[0].split('\\t')\n",
    "    birth_data = [[float(x) for x in y.split('\\t') if len(x) >= 1] for y in birth_data[1:] if len(y) >= 1]\n",
    "    with open(birth_weight_file, 'w') as f:\n",
    "        writer = csv.writer(f)\n",
    "        writer.writerows([birth_header])\n",
    "        writer.writerows(birth_data)\n",
    "        f.close()\n",
    "        \n",
    "birth_data = []\n",
    "with open(birth_weight_file, newline='') as csvfile:\n",
    "    csv_reader = csv.reader(csvfile)\n",
    "    birth_header = next(csv_reader)\n",
    "    for row in csv_reader:\n",
    "        birth_data.append(row)\n",
    "birth_data = [[float(x) for x in row] for row in birth_data]\n",
    "\n",
    "y_vals = np.array([x[8] for x in birth_data])\n",
    "cols_of_interest = ['AGE', 'LWT', 'RACE', 'SMOKE', 'PTL', 'HT', 'UI']\n",
    "x_vals = [[x[ix] for ix, feature in enumerate(birth_header) if feature in cols_of_interest] for x in birth_data]\n",
    "\n",
    "# Train model\n",
    "ops.reset_default_graph()\n",
    "sess = tf.Session()\n",
    "batch_size = 150\n",
    "seed = 3\n",
    "np.random.seed(seed)\n",
    "tf.set_random_seed(seed)\n",
    "train_indices = np.random.choice(len(x_vals), round(len(x_vals)*0.8), replace=False)\n",
    "test_indices = np.array(list(set(range(len(x_vals))) - set(train_indices)))\n",
    "x_vals_train = x_vals[train_indices]\n",
    "x_vals_test = x_vals[test_indices]\n",
    "y_vals_train = y_vals[test_indices]\n",
    "y_vals_test = y_vals[test_indices]\n",
    "train_max = np.max(x_vals_train, axis=0)\n",
    "train_min = np.min(x_vals_train, axis=0)\n",
    "\n",
    "\n",
    "def normalize_cols(mat, max_vals, min_vals):\n",
    "    return (mat - min_vals) / (max_vals - min_vals)\n",
    "\n",
    "\n",
    "x_vals_train = np.nan_to_num(normalize_cols(x_vals_train, train_max, train_min))\n",
    "x_vals_test = np.nan_to_num(normalize_cols(x_vals_test, train_max, train_min))\n",
    "\n",
    "\n",
    "def init_weight(shape, st_dev):\n",
    "    weight = tf.Variable(tf.random_normal(shape, stddev=st_dev))\n",
    "    return weight\n",
    "\n",
    "\n",
    "def init_bias(shape, st_dev):\n",
    "    bias = tf.Variable(tf.random_normal(shape, stddev=st_dev))\n",
    "    return bias\n",
    "\n",
    "\n",
    "x_data = tf.placeholder(shape=[None, 7], dtype=tf.float32)\n",
    "y_target = tf.placeholder(shape=[None, 1],dtype=tf.float32)\n",
    "\n",
    "\n",
    "def fully_connnected(input_layer, weights, biases):\n",
    "    layer = tf.add(tf.matmul(input_layer, weights), biases)\n",
    "    return tf.nn.relu(layer)\n",
    "# first layer (50 hidden nodes)\n",
    "\n",
    "\n",
    "weight_1 = init_wight(shape = [7, 25], st_dev = 10.0)\n",
    "bias_1 = init_bias(shape=[25], st_dev=10.0)\n",
    "layer_1 = fully_connnected(x_data, weight_1, bias_1)\n",
    "\n",
    "# second layer (25 hidden nodes)\n",
    "weight_2 = init_weight(shape=[25, 10], st_dev=10.0)\n",
    "bias_2 = init_bias(shape=[10], st_dev=10.0)\n",
    "layer_2 = fully_connected(layer_1, weight_2, bias_2)\n",
    "\n",
    "\n",
    "#--------Create third layer (5 hidden nodes)--------\n",
    "weight_3 = init_weight(shape=[10, 3], st_dev=10.0)\n",
    "bias_3 = init_bias(shape=[3], st_dev=10.0)\n",
    "layer_3 = fully_connected(layer_2, weight_3, bias_3)\n",
    "\n",
    "\n",
    "#--------Create output layer (1 output value)--------\n",
    "weight_4 = init_weight(shape=[3, 1], st_dev=10.0)\n",
    "bias_4 = init_bias(shape=[1], st_dev=10.0)\n",
    "final_output = fully_connected(layer_3, weight_4, bias_4)\n",
    "\n",
    "# Declare loss function (L1)\n",
    "loss = tf.reduce_mean(tf.abs(y_target - final_output))\n",
    "\n",
    "# Declare optimizer\n",
    "my_opt = tf.train.AdamOptimizer(0.025)\n",
    "train_step = my_opt.minimize(loss)\n",
    "\n",
    "# Initialize Variables\n",
    "init = tf.global_variables_initializer()\n",
    "sess.run(init)\n",
    "\n",
    "# Training loop\n",
    "loss_vec = []\n",
    "test_loss = [] \n",
    "for i in range(500):\n",
    "    rand_index = np.random.choice(len(x_vals_train), size=batch_size)\n",
    "    rand_x = x_vals_train[rand_index]\n",
    "    rand_y = np.transpose([y_vals_train[rand_index]])\n",
    "    sess.run(train_step, feed_dict={x_data: rand_x, y_target: rand_y})\n",
    "\n",
    "    temp_loss = sess.run(loss, feed_dict={x_data: rand_x, y_target: rand_y})\n",
    "    loss_vec.append(temp_loss)\n",
    "    \n",
    "    test_temp_loss = sess.run(loss, feed_dict={x_data: x_vals_test, y_target: np.transpose([y_vals_test])})\n",
    "    test_loss.append(test_temp_loss)\n",
    "    if (i+1) % 25 == 0:\n",
    "        print('Generation: ' + str(i+1) + '. Loss = ' + str(temp_loss))\n",
    "        "
   ]
  },
  {
   "cell_type": "code",
   "execution_count": 10,
   "metadata": {},
   "outputs": [
    {
     "data": {
      "text/plain": [
       "[[],\n [1.0, 28.0, 113.0, 1.0, 1.0, 1.0, 0.0, 1.0, 709.0],\n [],\n [1.0, 29.0, 130.0, 0.0, 0.0, 0.0, 0.0, 1.0, 1021.0],\n [],\n [1.0, 34.0, 187.0, 1.0, 1.0, 0.0, 1.0, 0.0, 1135.0],\n [],\n [1.0, 25.0, 105.0, 1.0, 0.0, 1.0, 1.0, 0.0, 1330.0],\n [],\n [1.0, 25.0, 85.0, 1.0, 0.0, 0.0, 0.0, 1.0, 1474.0],\n [],\n [1.0, 27.0, 150.0, 1.0, 0.0, 0.0, 0.0, 0.0, 1588.0],\n [],\n [1.0, 23.0, 97.0, 1.0, 0.0, 0.0, 0.0, 1.0, 1588.0],\n [],\n [1.0, 24.0, 128.0, 1.0, 0.0, 1.0, 0.0, 0.0, 1701.0],\n [],\n [1.0, 24.0, 132.0, 1.0, 0.0, 0.0, 1.0, 0.0, 1729.0],\n [],\n [1.0, 21.0, 165.0, 0.0, 1.0, 0.0, 1.0, 0.0, 1790.0],\n [],\n [1.0, 32.0, 105.0, 1.0, 1.0, 0.0, 0.0, 0.0, 1818.0],\n [],\n [1.0, 19.0, 91.0, 0.0, 1.0, 1.0, 0.0, 1.0, 1885.0],\n [],\n [1.0, 25.0, 115.0, 1.0, 0.0, 0.0, 0.0, 0.0, 1893.0],\n [],\n [1.0, 16.0, 130.0, 1.0, 0.0, 0.0, 0.0, 0.0, 1899.0],\n [],\n [1.0, 25.0, 92.0, 0.0, 1.0, 0.0, 0.0, 0.0, 1928.0],\n [],\n [1.0, 20.0, 150.0, 0.0, 1.0, 0.0, 0.0, 0.0, 1928.0],\n [],\n [1.0, 21.0, 190.0, 1.0, 0.0, 0.0, 0.0, 1.0, 1928.0],\n [],\n [1.0, 24.0, 155.0, 0.0, 1.0, 1.0, 0.0, 0.0, 1936.0],\n [],\n [1.0, 21.0, 103.0, 1.0, 0.0, 0.0, 0.0, 0.0, 1970.0],\n [],\n [1.0, 20.0, 125.0, 1.0, 0.0, 0.0, 0.0, 1.0, 2055.0],\n [],\n [1.0, 25.0, 89.0, 1.0, 0.0, 1.0, 0.0, 0.0, 2055.0],\n [],\n [1.0, 19.0, 102.0, 0.0, 0.0, 0.0, 0.0, 0.0, 2082.0],\n [],\n [1.0, 19.0, 112.0, 0.0, 1.0, 0.0, 0.0, 1.0, 2084.0],\n [],\n [1.0, 26.0, 117.0, 0.0, 1.0, 1.0, 0.0, 1.0, 2084.0],\n [],\n [1.0, 24.0, 138.0, 0.0, 0.0, 0.0, 0.0, 0.0, 2100.0],\n [],\n [1.0, 17.0, 130.0, 1.0, 1.0, 1.0, 0.0, 1.0, 2125.0],\n [],\n [1.0, 20.0, 120.0, 1.0, 1.0, 0.0, 0.0, 0.0, 2126.0],\n [],\n [1.0, 22.0, 130.0, 0.0, 1.0, 1.0, 0.0, 1.0, 2187.0],\n [],\n [1.0, 27.0, 130.0, 1.0, 0.0, 0.0, 0.0, 1.0, 2187.0],\n [],\n [1.0, 20.0, 80.0, 1.0, 1.0, 0.0, 0.0, 1.0, 2211.0],\n [],\n [1.0, 17.0, 110.0, 0.0, 1.0, 0.0, 0.0, 0.0, 2225.0],\n [],\n [1.0, 25.0, 105.0, 1.0, 0.0, 1.0, 0.0, 0.0, 2240.0],\n [],\n [1.0, 20.0, 109.0, 1.0, 0.0, 0.0, 0.0, 0.0, 2240.0],\n [],\n [1.0, 18.0, 148.0, 1.0, 0.0, 0.0, 0.0, 0.0, 2282.0],\n [],\n [1.0, 18.0, 110.0, 1.0, 1.0, 1.0, 0.0, 0.0, 2296.0],\n [],\n [1.0, 20.0, 121.0, 0.0, 1.0, 1.0, 0.0, 1.0, 2296.0],\n [],\n [1.0, 21.0, 100.0, 1.0, 0.0, 1.0, 0.0, 0.0, 2301.0],\n [],\n [1.0, 26.0, 96.0, 1.0, 0.0, 0.0, 0.0, 0.0, 2325.0],\n [],\n [1.0, 31.0, 102.0, 0.0, 1.0, 1.0, 0.0, 0.0, 2353.0],\n [],\n [1.0, 15.0, 110.0, 0.0, 0.0, 0.0, 0.0, 0.0, 2353.0],\n [],\n [1.0, 23.0, 187.0, 1.0, 1.0, 0.0, 0.0, 0.0, 2367.0],\n [],\n [1.0, 20.0, 122.0, 1.0, 1.0, 1.0, 0.0, 0.0, 2381.0],\n [],\n [1.0, 24.0, 105.0, 1.0, 1.0, 0.0, 0.0, 0.0, 2381.0],\n [],\n [1.0, 15.0, 115.0, 1.0, 0.0, 0.0, 0.0, 1.0, 2381.0],\n [],\n [1.0, 23.0, 120.0, 1.0, 0.0, 0.0, 0.0, 0.0, 2395.0],\n [],\n [1.0, 30.0, 142.0, 0.0, 1.0, 1.0, 0.0, 0.0, 2410.0],\n [],\n [1.0, 22.0, 130.0, 0.0, 1.0, 0.0, 0.0, 0.0, 2410.0],\n [],\n [1.0, 17.0, 120.0, 0.0, 1.0, 0.0, 0.0, 0.0, 2414.0],\n [],\n [1.0, 23.0, 110.0, 0.0, 1.0, 1.0, 0.0, 0.0, 2424.0],\n [],\n [1.0, 17.0, 120.0, 1.0, 0.0, 0.0, 0.0, 0.0, 2438.0],\n [],\n [1.0, 26.0, 154.0, 1.0, 0.0, 1.0, 1.0, 0.0, 2442.0],\n [],\n [1.0, 20.0, 105.0, 1.0, 0.0, 0.0, 0.0, 0.0, 2450.0],\n [],\n [1.0, 26.0, 168.0, 0.0, 1.0, 0.0, 0.0, 0.0, 2466.0],\n [],\n [1.0, 14.0, 101.0, 1.0, 1.0, 1.0, 0.0, 0.0, 2466.0],\n [],\n [1.0, 28.0, 95.0, 0.0, 1.0, 0.0, 0.0, 0.0, 2466.0],\n [],\n [1.0, 14.0, 100.0, 1.0, 0.0, 0.0, 0.0, 0.0, 2495.0],\n [],\n [1.0, 23.0, 94.0, 1.0, 1.0, 0.0, 0.0, 0.0, 2495.0],\n [],\n [1.0, 17.0, 142.0, 1.0, 0.0, 0.0, 1.0, 0.0, 2495.0],\n [],\n [1.0, 21.0, 130.0, 0.0, 1.0, 0.0, 1.0, 0.0, 2495.0],\n [],\n [0.0, 19.0, 182.0, 1.0, 0.0, 0.0, 0.0, 1.0, 2523.0],\n [],\n [0.0, 33.0, 155.0, 1.0, 0.0, 0.0, 0.0, 0.0, 2551.0],\n [],\n [0.0, 20.0, 105.0, 0.0, 1.0, 0.0, 0.0, 0.0, 2557.0],\n [],\n [0.0, 21.0, 108.0, 0.0, 1.0, 0.0, 0.0, 1.0, 2594.0],\n [],\n [0.0, 18.0, 107.0, 0.0, 1.0, 0.0, 0.0, 1.0, 2600.0],\n [],\n [0.0, 21.0, 124.0, 1.0, 0.0, 0.0, 0.0, 0.0, 2622.0],\n [],\n [0.0, 22.0, 118.0, 0.0, 0.0, 0.0, 0.0, 0.0, 2637.0],\n [],\n [0.0, 17.0, 103.0, 1.0, 0.0, 0.0, 0.0, 0.0, 2637.0],\n [],\n [0.0, 29.0, 123.0, 0.0, 1.0, 0.0, 0.0, 0.0, 2663.0],\n [],\n [0.0, 26.0, 113.0, 0.0, 1.0, 0.0, 0.0, 0.0, 2665.0],\n [],\n [0.0, 19.0, 95.0, 1.0, 0.0, 0.0, 0.0, 0.0, 2722.0],\n [],\n [0.0, 19.0, 150.0, 1.0, 0.0, 0.0, 0.0, 0.0, 2733.0],\n [],\n [0.0, 22.0, 95.0, 1.0, 0.0, 0.0, 1.0, 0.0, 2750.0],\n [],\n [0.0, 30.0, 107.0, 1.0, 0.0, 1.0, 0.0, 1.0, 2750.0],\n [],\n [0.0, 18.0, 100.0, 0.0, 1.0, 0.0, 0.0, 0.0, 2769.0],\n [],\n [0.0, 18.0, 100.0, 1.0, 1.0, 0.0, 0.0, 0.0, 2769.0],\n [],\n [0.0, 15.0, 98.0, 1.0, 0.0, 0.0, 0.0, 0.0, 2778.0],\n [],\n [0.0, 25.0, 118.0, 0.0, 1.0, 0.0, 0.0, 0.0, 2782.0],\n [],\n [0.0, 20.0, 120.0, 1.0, 0.0, 0.0, 0.0, 1.0, 2807.0],\n [],\n [0.0, 28.0, 120.0, 0.0, 1.0, 0.0, 0.0, 0.0, 2821.0],\n [],\n [0.0, 32.0, 121.0, 1.0, 0.0, 0.0, 0.0, 0.0, 2835.0],\n [],\n [0.0, 31.0, 100.0, 0.0, 0.0, 0.0, 0.0, 1.0, 2835.0],\n [],\n [0.0, 36.0, 202.0, 0.0, 0.0, 0.0, 0.0, 0.0, 2836.0],\n [],\n [0.0, 28.0, 120.0, 1.0, 0.0, 0.0, 0.0, 0.0, 2863.0],\n [],\n [0.0, 25.0, 120.0, 1.0, 0.0, 0.0, 0.0, 1.0, 2877.0],\n [],\n [0.0, 28.0, 167.0, 0.0, 0.0, 0.0, 0.0, 0.0, 2877.0],\n [],\n [0.0, 17.0, 122.0, 0.0, 1.0, 0.0, 0.0, 0.0, 2906.0],\n [],\n [0.0, 29.0, 150.0, 0.0, 0.0, 0.0, 0.0, 0.0, 2920.0],\n [],\n [0.0, 26.0, 168.0, 1.0, 1.0, 0.0, 0.0, 0.0, 2920.0],\n [],\n [0.0, 17.0, 113.0, 1.0, 0.0, 0.0, 0.0, 0.0, 2920.0],\n [],\n [0.0, 17.0, 113.0, 1.0, 0.0, 0.0, 0.0, 0.0, 2920.0],\n [],\n [0.0, 24.0, 90.0, 0.0, 1.0, 1.0, 0.0, 0.0, 2948.0],\n [],\n [0.0, 35.0, 121.0, 1.0, 1.0, 1.0, 1.0, 0.0, 2948.0],\n [],\n [0.0, 25.0, 155.0, 0.0, 1.0, 1.0, 0.0, 0.0, 2977.0],\n [],\n [0.0, 25.0, 125.0, 1.0, 0.0, 0.0, 0.0, 0.0, 2977.0],\n [],\n [0.0, 29.0, 140.0, 0.0, 1.0, 0.0, 0.0, 0.0, 2977.0],\n [],\n [0.0, 19.0, 138.0, 0.0, 1.0, 0.0, 1.0, 0.0, 2977.0],\n [],\n [0.0, 27.0, 124.0, 0.0, 1.0, 0.0, 0.0, 0.0, 2992.0],\n [],\n [0.0, 31.0, 115.0, 0.0, 1.0, 0.0, 0.0, 0.0, 3005.0],\n [],\n [0.0, 33.0, 109.0, 0.0, 1.0, 0.0, 0.0, 0.0, 3033.0],\n [],\n [0.0, 21.0, 185.0, 1.0, 1.0, 0.0, 0.0, 0.0, 3042.0],\n [],\n [0.0, 19.0, 189.0, 0.0, 0.0, 0.0, 0.0, 0.0, 3062.0],\n [],\n [0.0, 23.0, 130.0, 1.0, 0.0, 0.0, 0.0, 0.0, 3062.0],\n [],\n [0.0, 21.0, 160.0, 0.0, 0.0, 0.0, 0.0, 0.0, 3062.0],\n [],\n [0.0, 18.0, 90.0, 0.0, 1.0, 0.0, 0.0, 1.0, 3076.0],\n [],\n [0.0, 18.0, 90.0, 0.0, 1.0, 0.0, 0.0, 1.0, 3076.0],\n [],\n [0.0, 32.0, 132.0, 0.0, 0.0, 0.0, 0.0, 0.0, 3080.0],\n [],\n [0.0, 19.0, 132.0, 1.0, 0.0, 0.0, 0.0, 0.0, 3090.0],\n [],\n [0.0, 24.0, 115.0, 0.0, 0.0, 0.0, 0.0, 0.0, 3090.0],\n [],\n [0.0, 22.0, 85.0, 1.0, 1.0, 0.0, 0.0, 0.0, 3090.0],\n [],\n [0.0, 22.0, 120.0, 0.0, 0.0, 0.0, 1.0, 0.0, 3100.0],\n [],\n [0.0, 23.0, 128.0, 1.0, 0.0, 0.0, 0.0, 0.0, 3104.0],\n [],\n [0.0, 22.0, 130.0, 0.0, 1.0, 0.0, 0.0, 0.0, 3132.0],\n [],\n [0.0, 30.0, 95.0, 0.0, 1.0, 0.0, 0.0, 0.0, 3147.0],\n [],\n [0.0, 19.0, 115.0, 1.0, 0.0, 0.0, 0.0, 0.0, 3175.0],\n [],\n [0.0, 16.0, 110.0, 1.0, 0.0, 0.0, 0.0, 0.0, 3175.0],\n [],\n [0.0, 21.0, 110.0, 1.0, 1.0, 0.0, 0.0, 1.0, 3203.0],\n [],\n [0.0, 30.0, 153.0, 1.0, 0.0, 0.0, 0.0, 0.0, 3203.0],\n [],\n [0.0, 20.0, 103.0, 1.0, 0.0, 0.0, 0.0, 0.0, 3203.0],\n [],\n [0.0, 17.0, 119.0, 1.0, 0.0, 0.0, 0.0, 0.0, 3225.0],\n [],\n [0.0, 17.0, 119.0, 1.0, 0.0, 0.0, 0.0, 0.0, 3225.0],\n [],\n [0.0, 23.0, 119.0, 1.0, 0.0, 0.0, 0.0, 0.0, 3232.0],\n [],\n [0.0, 24.0, 110.0, 1.0, 0.0, 0.0, 0.0, 0.0, 3232.0],\n [],\n [0.0, 28.0, 140.0, 0.0, 0.0, 0.0, 0.0, 0.0, 3234.0],\n [],\n [0.0, 26.0, 133.0, 1.0, 1.0, 0.0, 0.0, 0.0, 3260.0],\n [],\n [0.0, 20.0, 169.0, 1.0, 0.0, 1.0, 0.0, 1.0, 3274.0],\n [],\n [0.0, 24.0, 115.0, 1.0, 0.0, 0.0, 0.0, 0.0, 3274.0],\n [],\n [0.0, 28.0, 250.0, 1.0, 1.0, 0.0, 0.0, 0.0, 3303.0],\n [],\n [0.0, 20.0, 141.0, 0.0, 0.0, 0.0, 0.0, 1.0, 3317.0],\n [],\n [0.0, 22.0, 158.0, 1.0, 0.0, 1.0, 0.0, 0.0, 3317.0],\n [],\n [0.0, 22.0, 112.0, 0.0, 1.0, 1.0, 0.0, 0.0, 3317.0],\n [],\n [0.0, 31.0, 150.0, 1.0, 1.0, 0.0, 0.0, 0.0, 3321.0],\n [],\n [0.0, 23.0, 115.0, 1.0, 1.0, 0.0, 0.0, 0.0, 3331.0],\n [],\n [0.0, 16.0, 112.0, 1.0, 0.0, 0.0, 0.0, 0.0, 3374.0],\n [],\n [0.0, 16.0, 135.0, 0.0, 1.0, 0.0, 0.0, 0.0, 3374.0],\n [],\n [0.0, 18.0, 229.0, 1.0, 0.0, 0.0, 0.0, 0.0, 3402.0],\n [],\n [0.0, 25.0, 140.0, 0.0, 0.0, 0.0, 0.0, 0.0, 3416.0],\n [],\n [0.0, 32.0, 134.0, 0.0, 1.0, 1.0, 0.0, 0.0, 3430.0],\n [],\n [0.0, 20.0, 121.0, 1.0, 1.0, 0.0, 0.0, 0.0, 3444.0],\n [],\n [0.0, 23.0, 190.0, 0.0, 0.0, 0.0, 0.0, 0.0, 3459.0],\n [],\n [0.0, 22.0, 131.0, 0.0, 0.0, 0.0, 0.0, 0.0, 3460.0],\n [],\n [0.0, 32.0, 170.0, 0.0, 0.0, 0.0, 0.0, 0.0, 3473.0],\n [],\n [0.0, 30.0, 110.0, 1.0, 0.0, 0.0, 0.0, 0.0, 3475.0],\n [],\n [0.0, 20.0, 127.0, 1.0, 0.0, 0.0, 0.0, 0.0, 3487.0],\n [],\n [0.0, 23.0, 123.0, 1.0, 0.0, 0.0, 0.0, 0.0, 3544.0],\n [],\n [0.0, 17.0, 120.0, 1.0, 1.0, 0.0, 0.0, 0.0, 3572.0],\n [],\n [0.0, 19.0, 105.0, 1.0, 0.0, 0.0, 0.0, 0.0, 3572.0],\n [],\n [0.0, 23.0, 130.0, 0.0, 0.0, 0.0, 0.0, 0.0, 3586.0],\n [],\n [0.0, 36.0, 175.0, 0.0, 0.0, 0.0, 0.0, 0.0, 3600.0],\n [],\n [0.0, 22.0, 125.0, 0.0, 0.0, 0.0, 0.0, 0.0, 3614.0],\n [],\n [0.0, 24.0, 133.0, 0.0, 0.0, 0.0, 0.0, 0.0, 3614.0],\n [],\n [0.0, 21.0, 134.0, 1.0, 0.0, 0.0, 0.0, 0.0, 3629.0],\n [],\n [0.0, 19.0, 235.0, 0.0, 1.0, 0.0, 1.0, 0.0, 3629.0],\n [],\n [0.0, 25.0, 200.0, 0.0, 0.0, 1.0, 0.0, 1.0, 3637.0],\n [],\n [0.0, 16.0, 135.0, 0.0, 1.0, 0.0, 0.0, 0.0, 3643.0],\n [],\n [0.0, 29.0, 135.0, 0.0, 0.0, 0.0, 0.0, 0.0, 3651.0],\n [],\n [0.0, 29.0, 154.0, 0.0, 0.0, 0.0, 0.0, 0.0, 3651.0],\n [],\n [0.0, 19.0, 147.0, 0.0, 1.0, 0.0, 0.0, 0.0, 3651.0],\n [],\n [0.0, 19.0, 147.0, 0.0, 1.0, 0.0, 0.0, 0.0, 3651.0],\n [],\n [0.0, 30.0, 137.0, 0.0, 0.0, 0.0, 0.0, 0.0, 3699.0],\n [],\n [0.0, 24.0, 110.0, 0.0, 0.0, 0.0, 0.0, 0.0, 3728.0],\n [],\n [0.0, 19.0, 184.0, 0.0, 1.0, 0.0, 1.0, 0.0, 3756.0],\n [],\n [0.0, 24.0, 110.0, 0.0, 0.0, 1.0, 0.0, 0.0, 3770.0],\n [],\n [0.0, 23.0, 110.0, 0.0, 0.0, 0.0, 0.0, 0.0, 3770.0],\n [],\n [0.0, 20.0, 120.0, 1.0, 0.0, 0.0, 0.0, 0.0, 3770.0],\n [],\n [0.0, 25.0, 141.0, 0.0, 0.0, 0.0, 1.0, 0.0, 3790.0],\n [],\n [0.0, 30.0, 112.0, 0.0, 0.0, 0.0, 0.0, 0.0, 3799.0],\n [],\n [0.0, 22.0, 169.0, 0.0, 0.0, 0.0, 0.0, 0.0, 3827.0],\n [],\n [0.0, 18.0, 120.0, 0.0, 1.0, 0.0, 0.0, 0.0, 3856.0],\n [],\n [0.0, 16.0, 170.0, 1.0, 0.0, 0.0, 0.0, 0.0, 3860.0],\n [],\n [0.0, 32.0, 186.0, 0.0, 0.0, 0.0, 0.0, 0.0, 3860.0],\n [],\n [0.0, 18.0, 120.0, 1.0, 0.0, 0.0, 0.0, 0.0, 3884.0],\n [],\n [0.0, 29.0, 130.0, 0.0, 1.0, 0.0, 0.0, 0.0, 3884.0],\n [],\n [0.0, 33.0, 117.0, 0.0, 0.0, 0.0, 0.0, 1.0, 3912.0],\n [],\n [0.0, 20.0, 170.0, 0.0, 1.0, 0.0, 0.0, 0.0, 3940.0],\n [],\n [0.0, 28.0, 134.0, 1.0, 0.0, 0.0, 0.0, 0.0, 3941.0],\n [],\n [0.0, 14.0, 135.0, 0.0, 0.0, 1.0, 0.0, 0.0, 3941.0],\n [],\n [0.0, 28.0, 130.0, 1.0, 0.0, 0.0, 0.0, 0.0, 3969.0],\n [],\n [0.0, 25.0, 120.0, 0.0, 0.0, 0.0, 0.0, 0.0, 3983.0],\n [],\n [0.0, 16.0, 135.0, 1.0, 0.0, 0.0, 0.0, 0.0, 3997.0],\n [],\n [0.0, 20.0, 158.0, 0.0, 0.0, 0.0, 0.0, 0.0, 3997.0],\n [],\n [0.0, 26.0, 160.0, 0.0, 0.0, 0.0, 0.0, 0.0, 4054.0],\n [],\n [0.0, 21.0, 115.0, 0.0, 0.0, 0.0, 0.0, 0.0, 4054.0],\n [],\n [0.0, 22.0, 129.0, 0.0, 0.0, 0.0, 0.0, 0.0, 4111.0],\n [],\n [0.0, 25.0, 130.0, 0.0, 0.0, 0.0, 0.0, 0.0, 4153.0],\n [],\n [0.0, 31.0, 120.0, 0.0, 0.0, 0.0, 0.0, 0.0, 4167.0],\n [],\n [0.0, 35.0, 170.0, 0.0, 0.0, 1.0, 0.0, 0.0, 4174.0],\n [],\n [0.0, 19.0, 120.0, 0.0, 1.0, 0.0, 1.0, 0.0, 4238.0],\n [],\n [0.0, 24.0, 216.0, 0.0, 0.0, 0.0, 0.0, 0.0, 4593.0],\n [],\n [0.0, 45.0, 123.0, 0.0, 0.0, 1.0, 0.0, 0.0, 4990.0],\n []]"
      ]
     },
     "execution_count": 10,
     "metadata": {},
     "output_type": "execute_result"
    }
   ],
   "source": [
    "birth_data"
   ]
  }
 ],
 "metadata": {
  "kernelspec": {
   "display_name": "Python 3",
   "language": "python",
   "name": "python3"
  },
  "language_info": {
   "codemirror_mode": {
    "name": "ipython",
    "version": 3
   },
   "file_extension": ".py",
   "mimetype": "text/x-python",
   "name": "python",
   "nbconvert_exporter": "python",
   "pygments_lexer": "ipython3",
   "version": "3.6.5"
  }
 },
 "nbformat": 4,
 "nbformat_minor": 2
}
